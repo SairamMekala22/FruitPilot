{
 "cells": [
  {
   "cell_type": "code",
   "execution_count": 32,
   "id": "c9f24220",
   "metadata": {},
   "outputs": [],
   "source": [
    "from dronekit import *"
   ]
  },
  {
   "cell_type": "markdown",
   "id": "c1e03a84",
   "metadata": {},
   "source": [
    "# Connection to vehicle"
   ]
  },
  {
   "cell_type": "code",
   "execution_count": null,
   "id": "3d02f5f9",
   "metadata": {},
   "outputs": [
    {
     "name": "stderr",
     "output_type": "stream",
     "text": [
      "CRITICAL:autopilot:APM:Copter V3.3 (d6053245)\n",
      "CRITICAL:autopilot:Frame: QUAD\n"
     ]
    },
    {
     "name": "stderr",
     "output_type": "stream",
     "text": [
      "ERROR:autopilot:ARMING MOTORS\n",
      "CRITICAL:autopilot:GROUND START\n",
      "WARNING:dronekit:Link timeout, no heartbeat in last 5 seconds\n",
      "CRITICAL:autopilot:Initialising APM...\n",
      "ERROR:autopilot:DISARMING MOTORS\n",
      "CRITICAL:autopilot:APM:Copter V3.3 (d6053245)\n",
      "CRITICAL:autopilot:Frame: QUAD\n",
      "CRITICAL:autopilot:APM:Copter V3.3 (d6053245)\n",
      "CRITICAL:autopilot:Frame: QUAD\n",
      "ERROR:autopilot:ARMING MOTORS\n",
      "CRITICAL:autopilot:Initialising APM...\n",
      "ERROR:autopilot:DISARMING MOTORS\n",
      "ERROR:autopilot:ARMING MOTORS\n",
      "CRITICAL:autopilot:Initialising APM...\n",
      "ERROR:autopilot:DISARMING MOTORS\n",
      "ERROR:autopilot:ARMING MOTORS\n",
      "CRITICAL:autopilot:Initialising APM...\n",
      "ERROR:autopilot:DISARMING MOTORS\n",
      "ERROR:autopilot:ARMING MOTORS\n",
      "CRITICAL:autopilot:Initialising APM...\n",
      "ERROR:autopilot:DISARMING MOTORS\n",
      "ERROR:autopilot:ARMING MOTORS\n",
      "CRITICAL:autopilot:Initialising APM...\n",
      "ERROR:autopilot:DISARMING MOTORS\n",
      "ERROR:autopilot:ARMING MOTORS\n",
      "CRITICAL:autopilot:Initialising APM...\n",
      "ERROR:autopilot:DISARMING MOTORS\n",
      "ERROR:autopilot:ARMING MOTORS\n",
      "CRITICAL:autopilot:Initialising APM...\n",
      "ERROR:autopilot:DISARMING MOTORS\n",
      "ERROR:autopilot:ARMING MOTORS\n",
      "CRITICAL:autopilot:Initialising APM...\n",
      "ERROR:autopilot:DISARMING MOTORS\n",
      "WARNING:dronekit:Link timeout, no heartbeat in last 5 seconds\n",
      "ERROR:dronekit.mavlink:Exception in MAVLink input loop\n",
      "Traceback (most recent call last):\n",
      "  File \"C:\\Users\\saira\\AppData\\Roaming\\Python\\Python310\\site-packages\\dronekit\\mavlink.py\", line 218, in mavlink_thread_in\n",
      "    msg = self.master.recv_msg()\n",
      "  File \"C:\\Users\\saira\\AppData\\Roaming\\Python\\Python310\\site-packages\\pymavlink\\mavutil.py\", line 1124, in recv_msg\n",
      "    s = self.recv()\n",
      "  File \"C:\\Users\\saira\\AppData\\Roaming\\Python\\Python310\\site-packages\\pymavlink\\mavutil.py\", line 1082, in recv\n",
      "    data, new_addr = self.port.recvfrom(UDP_MAX_PACKET_LEN)\n",
      "ConnectionResetError: [WinError 10054] An existing connection was forcibly closed by the remote host\n",
      "\n",
      "During handling of the above exception, another exception occurred:\n",
      "\n",
      "Traceback (most recent call last):\n",
      "  File \"C:\\Users\\saira\\AppData\\Roaming\\Python\\Python310\\site-packages\\dronekit\\mavlink.py\", line 222, in mavlink_thread_in\n",
      "    raise APIException('Connection aborting during send')\n",
      "dronekit.APIException: Connection aborting during send\n"
     ]
    }
   ],
   "source": [
    "vehicle = connect(\"127.0.0.1:14552\", wait_ready= True)"
   ]
  },
  {
   "cell_type": "markdown",
   "id": "13efd155",
   "metadata": {},
   "source": [
    "# Attributes"
   ]
  },
  {
   "cell_type": "code",
   "execution_count": 29,
   "id": "a5ddd895",
   "metadata": {},
   "outputs": [
    {
     "name": "stdout",
     "output_type": "stream",
     "text": [
      "Autopilot Firmware version: APM:Copter-3.3.0\n",
      "Autopilot capabilities (supports ftp): False\n",
      "Global Location: LocationGlobal:lat=-35.3632598,lon=149.1652288,alt=583.99\n",
      "Global Location (relative altitude): LocationGlobalRelative:lat=-35.3632598,lon=149.1652288,alt=0.0\n",
      "Local Location: LocationLocal:north=0.05756779760122299,east=-0.019453633576631546,down=0.0008314242586493492\n",
      "Attitude: Attitude:pitch=-0.0005590540822595358,yaw=-0.1661096215248108,roll=0.0009595252922736108\n",
      "Velocity: [-0.02, 0.02, 0.0]\n",
      "GPS: GPSInfo:fix=3,num_sat=10\n",
      "Groundspeed: 0.0\n",
      "Airspeed: 0.0\n",
      "Gimbal status: Gimbal: pitch=None, roll=None, yaw=None\n",
      "Battery: Battery:voltage=12.587,current=0.0,level=98\n",
      "EKF OK?: True\n",
      "Last Heartbeat: 0.40600000000267755\n",
      "Rangefinder: Rangefinder: distance=None, voltage=None\n",
      "Rangefinder distance: None\n",
      "Rangefinder voltage: None\n",
      "Heading: 350\n",
      "Is Armable?: True\n",
      "System status: STANDBY\n",
      "Mode: GUIDED\n",
      "Armed: False\n"
     ]
    }
   ],
   "source": [
    "print(\"Autopilot Firmware version: {}\".format(vehicle.version))\n",
    "print(\"Autopilot capabilities (supports ftp): {}\".format(vehicle.capabilities.ftp))\n",
    "print(\"Global Location: {}\".format(vehicle.location.global_frame))\n",
    "print(\"Global Location (relative altitude): {}\".format(vehicle.location.global_relative_frame))\n",
    "print(\"Local Location: {}\".format(vehicle.location.local_frame))  # NED\n",
    "print(\"Attitude: {}\".format(vehicle.attitude))\n",
    "print(\"Velocity: {}\".format(vehicle.velocity))\n",
    "print(\"GPS: {}\".format(vehicle.gps_0))\n",
    "print(\"Groundspeed: {}\".format(vehicle.groundspeed))\n",
    "print(\"Airspeed: {}\".format(vehicle.airspeed))\n",
    "print(\"Gimbal status: {}\".format(vehicle.gimbal))\n",
    "print(\"Battery: {}\".format(vehicle.battery))\n",
    "print(\"EKF OK?: {}\".format(vehicle.ekf_ok))\n",
    "print(\"Last Heartbeat: {}\".format(vehicle.last_heartbeat))\n",
    "print(\"Rangefinder: {}\".format(vehicle.rangefinder))\n",
    "print(\"Rangefinder distance: {}\".format(vehicle.rangefinder.distance))\n",
    "print(\"Rangefinder voltage: {}\".format(vehicle.rangefinder.voltage))\n",
    "print(\"Heading: {}\".format(vehicle.heading))\n",
    "print(\"Is Armable?: {}\".format(vehicle.is_armable))\n",
    "print(\"System status: {}\".format(vehicle.system_status.state))\n",
    "print(\"Mode: {}\".format(vehicle.mode.name))  # Settable\n",
    "print(\"Armed: {}\".format(vehicle.armed))"
   ]
  },
  {
   "cell_type": "code",
   "execution_count": 47,
   "id": "e805f12c",
   "metadata": {},
   "outputs": [
    {
     "data": {
      "text/plain": [
       "'STABILIZE'"
      ]
     },
     "execution_count": 47,
     "metadata": {},
     "output_type": "execute_result"
    }
   ],
   "source": [
    "vehicle.mode.name\n"
   ]
  },
  {
   "cell_type": "code",
   "execution_count": 54,
   "id": "54dba763",
   "metadata": {},
   "outputs": [
    {
     "name": "stdout",
     "output_type": "stream",
     "text": [
      "False\n"
     ]
    }
   ],
   "source": [
    "def armed_callback(self, attr_name, value):\n",
    "    print(\"Armed: {}\".format(vehicle.armed))\n",
    "    print(\"A changed occured\")\n",
    "\n",
    "vehicle.add_attribute_listener(\"vehicle.armed\", armed_callback)\n",
    "vehicle.armed = True\n",
    "print(vehicle.armed)"
   ]
  },
  {
   "cell_type": "markdown",
   "id": "a45c4193",
   "metadata": {},
   "source": [
    "## Home location"
   ]
  },
  {
   "cell_type": "code",
   "execution_count": 55,
   "id": "4ff104cb",
   "metadata": {},
   "outputs": [
    {
     "name": "stdout",
     "output_type": "stream",
     "text": [
      "\n",
      " Home location: LocationGlobal:lat=-35.363258361816406,lon=149.1652374267578,alt=583.989990234375\n"
     ]
    }
   ],
   "source": [
    "while not vehicle.home_location:\n",
    "    cmds = vehicle.commands\n",
    "    cmds.download()\n",
    "    cmds.wait_ready()\n",
    "    if not vehicle.home_location:\n",
    "        print(\" Waiting for home location ...\")\n",
    "\n",
    "# We have a home location.\n",
    "print(\"\\n Home location: %s\" % vehicle.home_location)"
   ]
  },
  {
   "cell_type": "code",
   "execution_count": null,
   "id": "7ccc4e31",
   "metadata": {},
   "outputs": [
    {
     "data": {
      "text/plain": [
       "<dronekit.Parameters at 0x1b52aea1390>"
      ]
     },
     "execution_count": 59,
     "metadata": {},
     "output_type": "execute_result"
    }
   ],
   "source": [
    "vehicle.parameters."
   ]
  },
  {
   "cell_type": "markdown",
   "id": "5604eec3",
   "metadata": {},
   "source": [
    "# Closing connection"
   ]
  },
  {
   "cell_type": "code",
   "execution_count": 5,
   "id": "f8d17c46",
   "metadata": {},
   "outputs": [],
   "source": [
    "vehicle.close()"
   ]
  }
 ],
 "metadata": {
  "kernelspec": {
   "display_name": "Python 3",
   "language": "python",
   "name": "python3"
  },
  "language_info": {
   "codemirror_mode": {
    "name": "ipython",
    "version": 3
   },
   "file_extension": ".py",
   "mimetype": "text/x-python",
   "name": "python",
   "nbconvert_exporter": "python",
   "pygments_lexer": "ipython3",
   "version": "3.10.11"
  }
 },
 "nbformat": 4,
 "nbformat_minor": 5
}
